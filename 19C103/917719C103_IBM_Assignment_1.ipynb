{
  "nbformat": 4,
  "nbformat_minor": 0,
  "metadata": {
    "colab": {
      "provenance": []
    },
    "kernelspec": {
      "name": "python3",
      "display_name": "Python 3"
    },
    "language_info": {
      "name": "python"
    }
  },
  "cells": [
    {
      "cell_type": "code",
      "execution_count": 7,
      "metadata": {
        "colab": {
          "base_uri": "https://localhost:8080/"
        },
        "id": "DO8SUyywh8iO",
        "outputId": "bcec906c-0dc0-464a-8eb2-0e27a7ca8171"
      },
      "outputs": [
        {
          "output_type": "stream",
          "name": "stdout",
          "text": [
            "Initial list\n",
            "[11, 78, 26, 10, 103]\n",
            "Insert 9 at index 1\n",
            "[11, 9, 78, 26, 10, 103]\n",
            "Remove 1st occurence of 10\n",
            "[11, 9, 78, 26, 103]\n",
            "Append 7\n",
            "[11, 9, 78, 26, 103, 7]\n",
            "Sort the list\n",
            "[7, 9, 11, 26, 78, 103]\n",
            "Pop from list\n",
            "[7, 9, 11, 26, 78]\n",
            "Reverse list\n",
            "[78, 26, 11, 9, 7]\n"
          ]
        }
      ],
      "source": [
        "\"\"\" Consider a list (list = []). You can perform the following commands:\n",
        "insert i e: Insert integer  at position .\n",
        "print: Print the list.\n",
        "remove e: Delete the first occurrence of integer .\n",
        "append e: Insert integer  at the end of the list.\n",
        "sort: Sort the list.\n",
        "pop: Pop the last element from the list.\n",
        "reverse: Reverse the list.\n",
        "Initialize your list and read in the value of  followed by  lines of commands where each command will be of the  types listed above. Iterate through each command in order and perform the corresponding operation on your list.\"\"\"\n",
        "\n",
        "def print_list(list,operation):\n",
        "    print(operation)\n",
        "    print(list)\n",
        "\n",
        "list = [11,78,26,10,103]\n",
        "print_list(list,\"Initial list\")\n",
        "\n",
        "list.insert(1,9)\n",
        "print_list(list,\"Insert 9 at index 1\")\n",
        "\n",
        "list.remove(10)\n",
        "print_list(list,\"Remove 1st occurence of 10\")\n",
        "\n",
        "list.append(7)\n",
        "print_list(list,\"Append 7\")\n",
        "\n",
        "list.sort()\n",
        "print_list(list,\"Sort the list\")\n",
        "\n",
        "list.pop()\n",
        "print_list(list,\"Pop from list\")\n",
        "\n",
        "list.reverse()\n",
        "print_list(list,\"Reverse list\")\n",
        "\n",
        "\n",
        "\n",
        "\n"
      ]
    },
    {
      "cell_type": "code",
      "source": [
        "#Write a Calculator program in Python?\n",
        "\n",
        "def add(P, Q):    \n",
        "   # This function is used for adding two numbers   \n",
        "   return P + Q   \n",
        "def subtract(P, Q):   \n",
        "   # This function is used for subtracting two numbers   \n",
        "   return P - Q   \n",
        "def multiply(P, Q):   \n",
        "   # This function is used for multiplying two numbers   \n",
        "   return P * Q   \n",
        "def divide(P, Q):   \n",
        "   # This function is used for dividing two numbers    \n",
        "   return P / Q    \n",
        "# Now we will take inputs from the user    \n",
        "print (\"Please select the operation.\")    \n",
        "print (\"a. Add\")    \n",
        "print (\"b. Subtract\")    \n",
        "print (\"c. Multiply\")    \n",
        "print (\"d. Divide\")    \n",
        "    \n",
        "choice = input(\"Please enter choice (a/ b/ c/ d): \")    \n",
        "    \n",
        "num_1 = int (input (\"Please enter the first number: \"))    \n",
        "num_2 = int (input (\"Please enter the second number: \"))    \n",
        "    \n",
        "if choice == 'a':    \n",
        "   print (num_1, \" + \", num_2, \" = \", add(num_1, num_2))    \n",
        "    \n",
        "elif choice == 'b':    \n",
        "   print (num_1, \" - \", num_2, \" = \", subtract(num_1, num_2))    \n",
        "    \n",
        "elif choice == 'c':    \n",
        "   print (num_1, \" * \", num_2, \" = \", multiply(num_1, num_2))    \n",
        "elif choice == 'd':    \n",
        "   print (num_1, \" / \", num_2, \" = \", divide(num_1, num_2))    \n",
        "else:    \n",
        "   print (\"This is an invalid input\")    \n",
        "\n"
      ],
      "metadata": {
        "colab": {
          "base_uri": "https://localhost:8080/"
        },
        "id": "pk6RyP9JiKuQ",
        "outputId": "4a1c1625-4316-4fe0-ca8c-20bb5a068126"
      },
      "execution_count": 2,
      "outputs": [
        {
          "output_type": "stream",
          "name": "stdout",
          "text": [
            "Please select the operation.\n",
            "a. Add\n",
            "b. Subtract\n",
            "c. Multiply\n",
            "d. Divide\n",
            "Please enter choice (a/ b/ c/ d): a\n",
            "Please enter the first number: 21\n",
            "Please enter the second number: 43\n",
            "21  +  43  =  64\n"
          ]
        }
      ]
    },
    {
      "cell_type": "code",
      "source": [
        "#Write a program to print the reverse of a string\n",
        "name=\"SRIVATHSAN\"\n",
        "print(name)\n",
        "print(name[::-1])\n",
        "print(name[0:10])\n",
        "\n",
        "\n"
      ],
      "metadata": {
        "colab": {
          "base_uri": "https://localhost:8080/"
        },
        "id": "pZ6pLV1BiSVc",
        "outputId": "eac8164e-6b73-4548-c5de-e151e2910d7a"
      },
      "execution_count": 9,
      "outputs": [
        {
          "output_type": "stream",
          "name": "stdout",
          "text": [
            "SRIVATHSAN\n",
            "NASHTAVIRS\n",
            "SRIVATHSAN\n"
          ]
        }
      ]
    },
    {
      "cell_type": "markdown",
      "source": [
        "Why is Python a popular programming language?\n",
        "\n",
        "Due to its ease of learning and usage, Python codes can easily be written and executed much faster than other programming languages. One of the main reasons why Python's popularity has exponentially grown is due to its simplicity in syntax so that it could be easy to read and developed by amateur professionals as well.\n",
        "\n",
        "What are the other Frameworks that can be used with python?\n",
        "Django\n",
        "Pyramid\n",
        "Flask\n",
        "CherryPy\n",
        "ETC\n",
        "\n",
        "Full form of WSGI?\n",
        "Web Server Gateway Interface"
      ],
      "metadata": {
        "id": "JLA4rPfOiVJr"
      }
    }
  ]
}